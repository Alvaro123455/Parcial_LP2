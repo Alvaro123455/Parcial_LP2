{
 "cells": [
  {
   "cell_type": "code",
   "execution_count": 1,
   "id": "8ed2f344-f78b-4584-ada3-558c60def2c4",
   "metadata": {},
   "outputs": [
    {
     "data": {
      "text/plain": [
       "'C:\\\\Users\\\\51958\\\\Documents\\\\GitHub\\\\Parcial_LP2'"
      ]
     },
     "execution_count": 1,
     "metadata": {},
     "output_type": "execute_result"
    }
   ],
   "source": [
    "import os\n",
    "os.getcwd()"
   ]
  },
  {
   "cell_type": "code",
   "execution_count": 2,
   "id": "1eb96d00-5eab-4688-9689-b5e58a89165e",
   "metadata": {},
   "outputs": [
    {
     "data": {
      "text/html": [
       "<div>\n",
       "<style scoped>\n",
       "    .dataframe tbody tr th:only-of-type {\n",
       "        vertical-align: middle;\n",
       "    }\n",
       "\n",
       "    .dataframe tbody tr th {\n",
       "        vertical-align: top;\n",
       "    }\n",
       "\n",
       "    .dataframe thead th {\n",
       "        text-align: right;\n",
       "    }\n",
       "</style>\n",
       "<table border=\"1\" class=\"dataframe\">\n",
       "  <thead>\n",
       "    <tr style=\"text-align: right;\">\n",
       "      <th></th>\n",
       "      <th>&gt;NC_000005.10:c149551439-149492982 CSNK1A1 [organism=Homo sapiens] [GeneID=1452] [chromosome=5]</th>\n",
       "    </tr>\n",
       "  </thead>\n",
       "  <tbody>\n",
       "    <tr>\n",
       "      <th>0</th>\n",
       "      <td>CCCAGAGTGCTCTGCGCCGTGAAGAAGCGGCTCCCGGGGACTGGGG...</td>\n",
       "    </tr>\n",
       "    <tr>\n",
       "      <th>1</th>\n",
       "      <td>AGTAACAAGATGGCGTCGTCCGCGGAGTGACAGGGGTCCCTCTGGG...</td>\n",
       "    </tr>\n",
       "    <tr>\n",
       "      <th>2</th>\n",
       "      <td>GCGGTATCGCCGCCCTAGCTCACCGCGCCCCTTTTCCAGCCCGCGA...</td>\n",
       "    </tr>\n",
       "    <tr>\n",
       "      <th>3</th>\n",
       "      <td>GCGGCCGCCGAGAAACAAGTGGCCCAGCCTGGTAACCGCCGAGAAG...</td>\n",
       "    </tr>\n",
       "    <tr>\n",
       "      <th>4</th>\n",
       "      <td>AAAAGAAACCTGACTGAGCGGCGGTGATCAGGTTCCCCTCTGCTGA...</td>\n",
       "    </tr>\n",
       "    <tr>\n",
       "      <th>...</th>\n",
       "      <td>...</td>\n",
       "    </tr>\n",
       "    <tr>\n",
       "      <th>1667</th>\n",
       "      <td>ATAGTGAAACCCTGTCTCTACTAAAAATACAAAAATTAGCCGGGTG...</td>\n",
       "    </tr>\n",
       "    <tr>\n",
       "      <th>1668</th>\n",
       "      <td>GCTTTTCAAGAGGCTGAGGCAGAAGAATCGCTTGAACCCGGGAGAT...</td>\n",
       "    </tr>\n",
       "    <tr>\n",
       "      <th>1669</th>\n",
       "      <td>TGCCACTGCACTCCAGCCTGGGCGTTGCAGTGAGACTCCGTCTCAA...</td>\n",
       "    </tr>\n",
       "    <tr>\n",
       "      <th>1670</th>\n",
       "      <td>TCAAAAGGGCACAGGAGCCACTTGAAGGATTATACTTGCTAAATCT...</td>\n",
       "    </tr>\n",
       "    <tr>\n",
       "      <th>1671</th>\n",
       "      <td>TAGCAACGTTA</td>\n",
       "    </tr>\n",
       "  </tbody>\n",
       "</table>\n",
       "<p>1672 rows × 1 columns</p>\n",
       "</div>"
      ],
      "text/plain": [
       "     >NC_000005.10:c149551439-149492982 CSNK1A1 [organism=Homo sapiens] [GeneID=1452] [chromosome=5]\n",
       "0     CCCAGAGTGCTCTGCGCCGTGAAGAAGCGGCTCCCGGGGACTGGGG...                                             \n",
       "1     AGTAACAAGATGGCGTCGTCCGCGGAGTGACAGGGGTCCCTCTGGG...                                             \n",
       "2     GCGGTATCGCCGCCCTAGCTCACCGCGCCCCTTTTCCAGCCCGCGA...                                             \n",
       "3     GCGGCCGCCGAGAAACAAGTGGCCCAGCCTGGTAACCGCCGAGAAG...                                             \n",
       "4     AAAAGAAACCTGACTGAGCGGCGGTGATCAGGTTCCCCTCTGCTGA...                                             \n",
       "...                                                 ...                                             \n",
       "1667  ATAGTGAAACCCTGTCTCTACTAAAAATACAAAAATTAGCCGGGTG...                                             \n",
       "1668  GCTTTTCAAGAGGCTGAGGCAGAAGAATCGCTTGAACCCGGGAGAT...                                             \n",
       "1669  TGCCACTGCACTCCAGCCTGGGCGTTGCAGTGAGACTCCGTCTCAA...                                             \n",
       "1670  TCAAAAGGGCACAGGAGCCACTTGAAGGATTATACTTGCTAAATCT...                                             \n",
       "1671                                        TAGCAACGTTA                                             \n",
       "\n",
       "[1672 rows x 1 columns]"
      ]
     },
     "execution_count": 2,
     "metadata": {},
     "output_type": "execute_result"
    }
   ],
   "source": [
    "import pandas as pd\n",
    "\n",
    "DF = pd.read_csv('gene.fna')\n",
    "DF\n"
   ]
  },
  {
   "cell_type": "markdown",
   "id": "6b4ac4c3-d27e-4b46-b058-e47279aed856",
   "metadata": {},
   "source": [
    "B) Tomando secuencias de tres nucleóticos de ventana determine el número de CCG o\n",
    "GCC que se encuentran en la secuencia.\n",
    ">Por ejemplo:\n",
    "\n",
    ">seq1\n",
    "\n",
    "ATGCGTACCCGGTAGCTAGCTGACTGCCACTG Total: 3\n",
    "\n",
    ". Damos la cuenta de las dos secuencias por separado y luego la suma de ellas."
   ]
  },
  {
   "cell_type": "code",
   "execution_count": 3,
   "id": "bb2fa6a3-2409-4853-b515-e96a52f43d15",
   "metadata": {},
   "outputs": [
    {
     "name": "stdout",
     "output_type": "stream",
     "text": [
      "El total de 'CCG' encontrado es: 334\n",
      "El total de 'GCC' encontrado es: 1394\n",
      "El conteo combinado de 'CCG' y 'GCC' es: 1728\n"
     ]
    }
   ],
   "source": [
    "def contar_ocurrencias_tripletes(archivo):\n",
    "   \n",
    "    with open(archivo, 'r') as f:\n",
    "        \n",
    "        lineas = f.readlines()[1:]\n",
    "    \n",
    "    secuencia = ''.join(lineas).replace('\\n', '').replace(' ', '')\n",
    "    \n",
    "    cuenta_ccg = 0\n",
    "    cuenta_gcc = 0\n",
    "    \n",
    "    for i in range(len(secuencia) - 2):\n",
    "        triplete = secuencia[i:i+3]\n",
    "        if triplete == \"CCG\":\n",
    "            cuenta_ccg += 1\n",
    "        elif triplete == \"GCC\":\n",
    "            cuenta_gcc += 1\n",
    "    \n",
    "    total_tripletes = cuenta_ccg + cuenta_gcc\n",
    "    return cuenta_ccg, cuenta_gcc, total_tripletes\n",
    "    \n",
    "archivo = 'gene.fna'\n",
    "\n",
    "cuenta_ccg, cuenta_gcc, total_tripletes = contar_ocurrencias_tripletes(archivo)\n",
    "\n",
    "print(f\"El total de 'CCG' encontrado es: {cuenta_ccg}\")\n",
    "print(f\"El total de 'GCC' encontrado es: {cuenta_gcc}\")\n",
    "print(f\"El conteo combinado de 'CCG' y 'GCC' es: {total_tripletes}\")\n"
   ]
  },
  {
   "cell_type": "markdown",
   "id": "2059a152-34e2-4188-8df2-e0c1f7efe96e",
   "metadata": {},
   "source": [
    "c) Buscar y contar las secuencias: GAATTC\n",
    ". Correción de respuesta de la pregunta C"
   ]
  },
  {
   "cell_type": "code",
   "execution_count": 5,
   "id": "eae523ee-31b1-48c1-b7d9-c3103a17396d",
   "metadata": {},
   "outputs": [
    {
     "name": "stdout",
     "output_type": "stream",
     "text": [
      "La secuencia 'GAATTC' aparece 32 veces en el archivo.\n"
     ]
    }
   ],
   "source": [
    "# Leer el archivo 'gene.fna'\n",
    "with open('gene.fna', 'r') as file:\n",
    "    lines = file.readlines()\n",
    "\n",
    "# Filtrar y concatenar solo las líneas que contienen secuencias (ignorando encabezados)\n",
    "sequences = ''.join([line.strip() for line in lines if not line.startswith('>')])\n",
    "\n",
    "# Contar las ocurrencias de la secuencia 'GAATTC'\n",
    "sequence = \"GAATTC\"\n",
    "count = sequences.count(sequence)\n",
    "\n",
    "# Mostrar el resultado\n",
    "print(f\"La secuencia '{sequence}' aparece {count} veces en el archivo.\")\n"
   ]
  },
  {
   "cell_type": "markdown",
   "id": "3a12e086-28b0-4b70-b8ad-bed4284bc022",
   "metadata": {},
   "source": [
    "D) ¿Es posible automatizar la descarga del archivo directamente desde Python?¿què\n",
    "librerìas y/o sentencias utilizarìa?. Escriba còdigo para dicha descarga"
   ]
  },
  {
   "cell_type": "markdown",
   "id": "657affaa-944a-4300-a629-9d27703115e9",
   "metadata": {},
   "source": [
    "- Se utilizaria la libreria requests ya que es muy útil para hacer solicitudes HTTP en Python, ya que simplifica la interacción con servicios web y la descarga de contenido de la web.\n",
    "- Las líneas de código a utilizar son los siguientes:\n",
    "- Se logra descargar el archivo le cambiamos de nombre (a.fna) para que se diferencie del primer archivo "
   ]
  },
  {
   "cell_type": "code",
   "execution_count": 8,
   "id": "6195f0be-4481-4185-b8e0-8a9e24032c64",
   "metadata": {},
   "outputs": [
    {
     "name": "stdout",
     "output_type": "stream",
     "text": [
      "Requirement already satisfied: requests in c:\\users\\51958\\anaconda3\\lib\\site-packages (2.31.0)\n",
      "Requirement already satisfied: charset-normalizer<4,>=2 in c:\\users\\51958\\anaconda3\\lib\\site-packages (from requests) (2.0.4)\n",
      "Requirement already satisfied: idna<4,>=2.5 in c:\\users\\51958\\anaconda3\\lib\\site-packages (from requests) (3.4)\n",
      "Requirement already satisfied: urllib3<3,>=1.21.1 in c:\\users\\51958\\anaconda3\\lib\\site-packages (from requests) (2.0.7)\n",
      "Requirement already satisfied: certifi>=2017.4.17 in c:\\users\\51958\\anaconda3\\lib\\site-packages (from requests) (2024.2.2)\n",
      "Note: you may need to restart the kernel to use updated packages.\n",
      "Requirement already satisfied: tqdm in c:\\users\\51958\\anaconda3\\lib\\site-packages (4.65.0)\n",
      "Requirement already satisfied: colorama in c:\\users\\51958\\anaconda3\\lib\\site-packages (from tqdm) (0.4.6)\n"
     ]
    }
   ],
   "source": [
    "%pip install requests\n",
    "!pip install tqdm\n"
   ]
  },
  {
   "cell_type": "code",
   "execution_count": 9,
   "id": "2d60c0a2-c842-4bb5-9b54-303e4d68315b",
   "metadata": {},
   "outputs": [
    {
     "name": "stdout",
     "output_type": "stream",
     "text": [
      "Archivo descargado y guardado como a.fna\n"
     ]
    }
   ],
   "source": [
    "import requests\n",
    "\n",
    "def descargar_archivo(url, nombre_archivo):\n",
    "    # Enviar una solicitud GET a la URL\n",
    "    response = requests.get(url, stream=True)\n",
    "    \n",
    "    # Verificar si la solicitud fue exitosa\n",
    "    if response.status_code == 200:\n",
    "        # Abrir el archivo en modo de escritura binaria\n",
    "        with open(nombre_archivo, 'wb') as f:\n",
    "            # Escribir el contenido del archivo en el archivo local\n",
    "            for chunk in response.iter_content(chunk_size=8192):\n",
    "                f.write(chunk)\n",
    "        print(f\"Archivo descargado y guardado como {nombre_archivo}\")\n",
    "    else:\n",
    "        print(f\"Error al descargar el archivo. Código de estado: {response.status_code}\")\n",
    "\n",
    "# URL del archivo a descargar\n",
    "url = 'https://www.ncbi.nlm.nih.gov/gene/1452#'\n",
    "# Nombre del archivo a guardar localmente\n",
    "nombre_archivo = 'a.fna'\n",
    "\n",
    "# Llamar a la función para descargar el archivo\n",
    "descargar_archivo(url, nombre_archivo)\n"
   ]
  },
  {
   "cell_type": "code",
   "execution_count": null,
   "id": "1679537a-c551-49ff-99ea-3f21ce8ec09e",
   "metadata": {},
   "outputs": [],
   "source": []
  }
 ],
 "metadata": {
  "kernelspec": {
   "display_name": "Python 3 (ipykernel)",
   "language": "python",
   "name": "python3"
  },
  "language_info": {
   "codemirror_mode": {
    "name": "ipython",
    "version": 3
   },
   "file_extension": ".py",
   "mimetype": "text/x-python",
   "name": "python",
   "nbconvert_exporter": "python",
   "pygments_lexer": "ipython3",
   "version": "3.11.7"
  }
 },
 "nbformat": 4,
 "nbformat_minor": 5
}
