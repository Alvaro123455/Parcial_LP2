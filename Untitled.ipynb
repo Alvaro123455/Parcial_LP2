{
 "cells": [
  {
   "cell_type": "code",
   "execution_count": null,
   "id": "21a3e105-13d8-4190-85ad-f18049a10dcc",
   "metadata": {},
   "outputs": [],
   "source": [
    "\n"
   ]
  },
  {
   "cell_type": "markdown",
   "id": "54eecd30-2031-4399-9532-61a307cd5bc1",
   "metadata": {},
   "source": [
    "b) Tomando secuencias de tres nucleóticos de ventana determine el número de CCG o\n",
    "GCC que se encuentran en la secuencia."
   ]
  },
  {
   "cell_type": "code",
   "execution_count": 22,
   "id": "bb2fa6a3-2409-4853-b515-e96a52f43d15",
   "metadata": {},
   "outputs": [
    {
     "name": "stdout",
     "output_type": "stream",
     "text": [
      "El número de tripletes 'CCG' es: 334\n",
      "El número de tripletes 'GCC' es: 1394\n",
      "El número total de tripletes 'CCG' o 'GCC' es: 1728\n"
     ]
    }
   ],
   "source": [
    "import re\n",
    "\n",
    "def contar_tripletes_ccg_gcc(archivo):\n",
    "    with open(archivo, 'r') as f:\n",
    "        lines = f.readlines()[1:]\n",
    "    \n",
    "    secuencia = ''.join(lines).replace('\\n', '').replace(' ', '')\n",
    "    tripletes_ccg = re.findall(r'CCG', secuencia, re.IGNORECASE)\n",
    "    tripletes_gcc = re.findall(r'GCC', secuencia, re.IGNORECASE)\n",
    "    contador_ccg = len(tripletes_ccg)\n",
    "    contador_gcc = len(tripletes_gcc)\n",
    "    total_tripletes = contador_ccg + contador_gcc\n",
    "    return contador_ccg, contador_gcc, total_tripletes\n",
    "\n",
    "archivo = 'gene.fna'\n",
    "contador_ccg, contador_gcc, total_tripletes = contar_tripletes_ccg_gcc(archivo)\n",
    "print(f\"El número de tripletes 'CCG' es: {contador_ccg}\")\n",
    "print(f\"El número de tripletes 'GCC' es: {contador_gcc}\")\n",
    "print(f\"El número total de tripletes 'CCG' o 'GCC' es: {total_tripletes}\")\n"
   ]
  },
  {
   "cell_type": "markdown",
   "id": "2059a152-34e2-4188-8df2-e0c1f7efe96e",
   "metadata": {},
   "source": [
    "c) Buscar y contar las secuencias: GAATTC\n"
   ]
  },
  {
   "cell_type": "code",
   "execution_count": 20,
   "id": "eae523ee-31b1-48c1-b7d9-c3103a17396d",
   "metadata": {},
   "outputs": [
    {
     "name": "stdout",
     "output_type": "stream",
     "text": [
      "El número de ocurrencias de la secuencia 'GAATTC' es: 30\n"
     ]
    }
   ],
   "source": [
    "import re\n",
    "\n",
    "def contar_secuencias(archivo, secuencia):\n",
    "    total_ocurrencias = 0\n",
    "    \n",
    "    with open(archivo, 'r') as file:\n",
    "        contenido = file.read()\n",
    "        \n",
    "        ocurrencias = re.findall(secuencia, contenido)\n",
    "        \n",
    "        total_ocurrencias = len(ocurrencias)\n",
    "    \n",
    "    return total_ocurrencias\n",
    "ruta_archivo = 'gene.fna'\n",
    "secuencia_buscada = 'GAATTC'\n",
    "ocurrencias = contar_secuencias(ruta_archivo, secuencia_buscada)\n",
    "print(f\"El número de ocurrencias de la secuencia '{secuencia_buscada}' es: {ocurrencias}\")"
   ]
  },
  {
   "cell_type": "code",
   "execution_count": null,
   "id": "9a4de7ff-bee1-486b-a1ba-63d498a5b15e",
   "metadata": {},
   "outputs": [],
   "source": []
  }
 ],
 "metadata": {
  "kernelspec": {
   "display_name": "Python 3 (ipykernel)",
   "language": "python",
   "name": "python3"
  },
  "language_info": {
   "codemirror_mode": {
    "name": "ipython",
    "version": 3
   },
   "file_extension": ".py",
   "mimetype": "text/x-python",
   "name": "python",
   "nbconvert_exporter": "python",
   "pygments_lexer": "ipython3",
   "version": "3.11.7"
  }
 },
 "nbformat": 4,
 "nbformat_minor": 5
}
